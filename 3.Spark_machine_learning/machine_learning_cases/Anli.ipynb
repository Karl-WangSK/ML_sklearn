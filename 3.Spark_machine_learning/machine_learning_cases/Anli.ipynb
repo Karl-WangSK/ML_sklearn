{
 "cells": [
  {
   "cell_type": "code",
   "execution_count": 16,
   "metadata": {},
   "outputs": [
    {
     "name": "stdout",
     "output_type": "stream",
     "text": [
      "cat1\n",
      "cat2\n",
      "idx_cat1\n",
      "idx_cat2\n",
      "cont1\n"
     ]
    }
   ],
   "source": [
    "isCateg     = lambda c: c.startswith(\"cat\")\n",
    "l=['cat1','cat2','cont1']\n",
    "categNewCol = map(lambda c: \"idx_{0}\".format(c) if (isCateg(c)) else c,l)\n",
    "fil=filter(isCateg, l)\n",
    "for i  in fil:\n",
    "    print(i)\n",
    "for i in categNewCol:\n",
    "    print(i)"
   ]
  },
  {
   "cell_type": "code",
   "execution_count": null,
   "metadata": {},
   "outputs": [],
   "source": []
  }
 ],
 "metadata": {
  "kernelspec": {
   "display_name": "Python 3",
   "language": "python",
   "name": "python3"
  },
  "language_info": {
   "codemirror_mode": {
    "name": "ipython",
    "version": 3
   },
   "file_extension": ".py",
   "mimetype": "text/x-python",
   "name": "python",
   "nbconvert_exporter": "python",
   "pygments_lexer": "ipython3",
   "version": "3.7.3"
  }
 },
 "nbformat": 4,
 "nbformat_minor": 2
}
